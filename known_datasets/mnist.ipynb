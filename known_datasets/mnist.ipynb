{
 "cells": [
  {
   "cell_type": "code",
   "execution_count": 8,
   "metadata": {},
   "outputs": [],
   "source": [
    "import tensorflow as tf\n",
    "from keras.utils import np_utils\n",
    "from keras.layers.core import Dense, Dropout, Activation\n",
    "from keras.models import Sequential\n",
    "import matplotlib.pyplot as plt\n",
    "from typing import List\n",
    "import numpy as np\n",
    "\n",
    "(x_train, y_train), (x_test, y_test) = tf.keras.datasets.mnist.load_data()"
   ]
  },
  {
   "cell_type": "code",
   "execution_count": null,
   "metadata": {},
   "outputs": [],
   "source": [
    "for _ in range(5940):\n",
    "    print(_)\n",
    "    x_train = np.append(x_train, [np.random.randint(256, size=(28,28))], axis=0)\n",
    "\n",
    "# 7.5 mins"
   ]
  },
  {
   "cell_type": "code",
   "execution_count": 9,
   "metadata": {},
   "outputs": [],
   "source": [
    "for _ in range(1000):\n",
    "    x_test = np.append(x_test, [np.random.randint(256, size=(28,28))], axis=0)"
   ]
  },
  {
   "cell_type": "code",
   "execution_count": 10,
   "metadata": {},
   "outputs": [
    {
     "data": {
      "text/plain": [
       "(65940, 28, 28)"
      ]
     },
     "execution_count": 10,
     "metadata": {},
     "output_type": "execute_result"
    }
   ],
   "source": [
    "x_train.shape"
   ]
  },
  {
   "cell_type": "code",
   "execution_count": 11,
   "metadata": {},
   "outputs": [],
   "source": [
    "x_train = x_train.reshape(65940, 784)\n",
    "x_test = x_test.reshape(11000, 784)\n",
    "x_train = x_train.astype('float32')\n",
    "x_test = x_test.astype('float32')"
   ]
  },
  {
   "cell_type": "code",
   "execution_count": 12,
   "metadata": {},
   "outputs": [],
   "source": [
    "x_train /= 255\n",
    "x_test /= 255"
   ]
  },
  {
   "cell_type": "code",
   "execution_count": 15,
   "metadata": {},
   "outputs": [],
   "source": [
    "new_train_class = [10 for _ in range(5940)]\n",
    "new_test_class = [10 for _ in range(1000)]\n",
    "y_train = np.append(y_train, new_train_class)\n",
    "y_test = np.append(y_test, new_test_class)"
   ]
  },
  {
   "cell_type": "code",
   "execution_count": 16,
   "metadata": {},
   "outputs": [],
   "source": [
    "n_classes = 11\n",
    "y_train = np_utils.to_categorical(y_train, n_classes)\n",
    "y_test = np_utils.to_categorical(y_test, n_classes)"
   ]
  },
  {
   "cell_type": "code",
   "execution_count": 34,
   "metadata": {},
   "outputs": [],
   "source": [
    "model = Sequential()\n",
    "model.add(Dense(512, input_shape=(784,)))\n",
    "model.add(Activation('relu'))                            \n",
    "model.add(Dropout(0.2))\n",
    "\n",
    "model.add(Dense(512))\n",
    "model.add(Activation('relu'))\n",
    "model.add(Dropout(0.2))\n",
    "\n",
    "model.add(Dense(11))\n",
    "model.add(Activation('softmax'))\n",
    "model.compile(loss='categorical_crossentropy', metrics=['accuracy'], optimizer='adam')"
   ]
  },
  {
   "cell_type": "code",
   "execution_count": 35,
   "metadata": {},
   "outputs": [],
   "source": [
    "history = {\n",
    "    \"loss\": [],\n",
    "    0: {\n",
    "        0: [],\n",
    "        1: [],\n",
    "        2: [],\n",
    "        3: [],\n",
    "        4: [],\n",
    "        5: [],\n",
    "        6: [],\n",
    "        7: [],\n",
    "        8: [],\n",
    "        9: [],\n",
    "        10: []\n",
    "    },\n",
    "    1: {\n",
    "        0: [],\n",
    "        1: [],\n",
    "        2: [],\n",
    "        3: [],\n",
    "        4: [],\n",
    "        5: [],\n",
    "        6: [],\n",
    "        7: [],\n",
    "        8: [],\n",
    "        9: [],\n",
    "        10: []\n",
    "    },\n",
    "    2: {\n",
    "        0: [],\n",
    "        1: [],\n",
    "        2: [],\n",
    "        3: [],\n",
    "        4: [],\n",
    "        5: [],\n",
    "        6: [],\n",
    "        7: [],\n",
    "        8: [],\n",
    "        9: [],\n",
    "        10: []\n",
    "    },\n",
    "    3: {\n",
    "        0: [],\n",
    "        1: [],\n",
    "        2: [],\n",
    "        3: [],\n",
    "        4: [],\n",
    "        5: [],\n",
    "        6: [],\n",
    "        7: [],\n",
    "        8: [],\n",
    "        9: [],\n",
    "        10: []\n",
    "    },\n",
    "    4: {\n",
    "        0: [],\n",
    "        1: [],\n",
    "        2: [],\n",
    "        3: [],\n",
    "        4: [],\n",
    "        5: [],\n",
    "        6: [],\n",
    "        7: [],\n",
    "        8: [],\n",
    "        9: [],\n",
    "        10: []\n",
    "    },\n",
    "    5: {\n",
    "        0: [],\n",
    "        1: [],\n",
    "        2: [],\n",
    "        3: [],\n",
    "        4: [],\n",
    "        5: [],\n",
    "        6: [],\n",
    "        7: [],\n",
    "        8: [],\n",
    "        9: [],\n",
    "        10: []\n",
    "    },\n",
    "    6: {\n",
    "        0: [],\n",
    "        1: [],\n",
    "        2: [],\n",
    "        3: [],\n",
    "        4: [],\n",
    "        5: [],\n",
    "        6: [],\n",
    "        7: [],\n",
    "        8: [],\n",
    "        9: [],\n",
    "        10: []\n",
    "    },\n",
    "    7: {\n",
    "        0: [],\n",
    "        1: [],\n",
    "        2: [],\n",
    "        3: [],\n",
    "        4: [],\n",
    "        5: [],\n",
    "        6: [],\n",
    "        7: [],\n",
    "        8: [],\n",
    "        9: [],\n",
    "        10: []\n",
    "    },\n",
    "    8: {\n",
    "        0: [],\n",
    "        1: [],\n",
    "        2: [],\n",
    "        3: [],\n",
    "        4: [],\n",
    "        5: [],\n",
    "        6: [],\n",
    "        7: [],\n",
    "        8: [],\n",
    "        9: [],\n",
    "        10: []\n",
    "    },\n",
    "    9: {\n",
    "        0: [],\n",
    "        1: [],\n",
    "        2: [],\n",
    "        3: [],\n",
    "        4: [],\n",
    "        5: [],\n",
    "        6: [],\n",
    "        7: [],\n",
    "        8: [],\n",
    "        9: [],\n",
    "        10: []\n",
    "    },\n",
    "    10: {\n",
    "        0: [],\n",
    "        1: [],\n",
    "        2: [],\n",
    "        3: [],\n",
    "        4: [],\n",
    "        5: [],\n",
    "        6: [],\n",
    "        7: [],\n",
    "        8: [],\n",
    "        9: [],\n",
    "        10: []\n",
    "    }\n",
    "     \n",
    "}"
   ]
  },
  {
   "cell_type": "code",
   "execution_count": 36,
   "metadata": {},
   "outputs": [
    {
     "name": "stdout",
     "output_type": "stream",
     "text": [
      "RUNNING EPOCH 1\n",
      "516/516 - 7s - loss: 0.2249 - accuracy: 0.9326 - val_loss: 0.0975 - val_accuracy: 0.9691 - 7s/epoch - 13ms/step\n",
      "RUNNING EPOCH 2\n",
      "516/516 - 6s - loss: 0.0902 - accuracy: 0.9722 - val_loss: 0.0791 - val_accuracy: 0.9738 - 6s/epoch - 12ms/step\n",
      "RUNNING EPOCH 3\n",
      "516/516 - 6s - loss: 0.0638 - accuracy: 0.9801 - val_loss: 0.0721 - val_accuracy: 0.9768 - 6s/epoch - 12ms/step\n",
      "RUNNING EPOCH 4\n",
      "516/516 - 6s - loss: 0.0498 - accuracy: 0.9836 - val_loss: 0.0607 - val_accuracy: 0.9804 - 6s/epoch - 12ms/step\n",
      "RUNNING EPOCH 5\n",
      "516/516 - 6s - loss: 0.0411 - accuracy: 0.9869 - val_loss: 0.0670 - val_accuracy: 0.9808 - 6s/epoch - 12ms/step\n",
      "RUNNING EPOCH 6\n",
      "516/516 - 6s - loss: 0.0346 - accuracy: 0.9886 - val_loss: 0.0545 - val_accuracy: 0.9833 - 6s/epoch - 11ms/step\n",
      "RUNNING EPOCH 7\n",
      "516/516 - 6s - loss: 0.0311 - accuracy: 0.9898 - val_loss: 0.0686 - val_accuracy: 0.9806 - 6s/epoch - 12ms/step\n",
      "RUNNING EPOCH 8\n",
      "516/516 - 6s - loss: 0.0265 - accuracy: 0.9914 - val_loss: 0.0654 - val_accuracy: 0.9819 - 6s/epoch - 12ms/step\n",
      "RUNNING EPOCH 9\n",
      "516/516 - 6s - loss: 0.0236 - accuracy: 0.9922 - val_loss: 0.0692 - val_accuracy: 0.9809 - 6s/epoch - 11ms/step\n",
      "RUNNING EPOCH 10\n",
      "516/516 - 6s - loss: 0.0230 - accuracy: 0.9923 - val_loss: 0.0640 - val_accuracy: 0.9840 - 6s/epoch - 12ms/step\n",
      "RUNNING EPOCH 11\n",
      "516/516 - 6s - loss: 0.0215 - accuracy: 0.9926 - val_loss: 0.0665 - val_accuracy: 0.9835 - 6s/epoch - 11ms/step\n",
      "RUNNING EPOCH 12\n",
      "516/516 - 6s - loss: 0.0192 - accuracy: 0.9936 - val_loss: 0.0611 - val_accuracy: 0.9854 - 6s/epoch - 11ms/step\n",
      "RUNNING EPOCH 13\n",
      "516/516 - 5s - loss: 0.0180 - accuracy: 0.9942 - val_loss: 0.0782 - val_accuracy: 0.9812 - 5s/epoch - 11ms/step\n",
      "RUNNING EPOCH 14\n",
      "516/516 - 6s - loss: 0.0159 - accuracy: 0.9949 - val_loss: 0.0637 - val_accuracy: 0.9856 - 6s/epoch - 11ms/step\n",
      "RUNNING EPOCH 15\n",
      "516/516 - 6s - loss: 0.0197 - accuracy: 0.9942 - val_loss: 0.0578 - val_accuracy: 0.9864 - 6s/epoch - 12ms/step\n",
      "RUNNING EPOCH 16\n",
      "516/516 - 6s - loss: 0.0142 - accuracy: 0.9953 - val_loss: 0.0700 - val_accuracy: 0.9851 - 6s/epoch - 12ms/step\n",
      "RUNNING EPOCH 17\n",
      "516/516 - 6s - loss: 0.0140 - accuracy: 0.9955 - val_loss: 0.0750 - val_accuracy: 0.9833 - 6s/epoch - 12ms/step\n",
      "RUNNING EPOCH 18\n",
      "516/516 - 6s - loss: 0.0142 - accuracy: 0.9955 - val_loss: 0.0820 - val_accuracy: 0.9828 - 6s/epoch - 11ms/step\n",
      "RUNNING EPOCH 19\n",
      "516/516 - 6s - loss: 0.0147 - accuracy: 0.9953 - val_loss: 0.0781 - val_accuracy: 0.9835 - 6s/epoch - 12ms/step\n"
     ]
    }
   ],
   "source": [
    "for epoch in range(1, 20):\n",
    "    print(f\"RUNNING EPOCH {epoch}\")\n",
    "    hist = model.fit(\n",
    "        x_train,\n",
    "        y_train,\n",
    "        epochs=1,\n",
    "        batch_size=128,\n",
    "        verbose=2,\n",
    "        validation_data=(x_test, y_test)\n",
    "    )\n",
    "    history[\"loss\"].append(hist.history[\"loss\"])\n",
    "    all_weights = model.layers[0].get_weights()[0].tolist()\n",
    "    for weights in range(len(all_weights)):\n",
    "        if weights < 11:\n",
    "            for weight in range(len(all_weights[weights])):\n",
    "                if weight < 11:\n",
    "                    history[weights][weight].append(all_weights[weights][weight])"
   ]
  },
  {
   "cell_type": "code",
   "execution_count": 37,
   "metadata": {},
   "outputs": [],
   "source": [
    "light = \"#90CCF4\"\n",
    "darker = \"#5DA2D5\"\n",
    "important = \"#F3D250\"\n",
    "noise = \"#F78888\"\n",
    "other = \"#ECECEC\""
   ]
  },
  {
   "cell_type": "code",
   "execution_count": 38,
   "metadata": {},
   "outputs": [],
   "source": [
    "start_index = 0\n",
    "\n",
    "zero_one = history[0][0][start_index:]\n",
    "zero_two = history[0][1][start_index:]\n",
    "zero_three = history[0][2][start_index:]\n",
    "zero_four = history[0][3][start_index:]\n",
    "\n",
    "one_one = history[1][0][start_index:]\n",
    "one_two = history[1][1][start_index:]\n",
    "one_three = history[1][2][start_index:]\n",
    "one_four = history[1][3][start_index:]\n",
    "\n",
    "two_one = history[2][0][start_index:]\n",
    "two_two = history[2][1][start_index:]\n",
    "two_three = history[2][2][start_index:]\n",
    "two_four = history[2][3][start_index:]\n",
    "\n",
    "three_one = history[3][0][start_index:]\n",
    "three_two = history[3][1][start_index:]\n",
    "three_three = history[3][2][start_index:]\n",
    "three_four = history[3][3][start_index:]\n",
    "\n",
    "four_one = history[4][0][start_index:]\n",
    "four_two = history[4][1][start_index:]\n",
    "four_three = history[4][2][start_index:]\n",
    "four_four = history[4][3][start_index:]\n",
    "\n",
    "five_one = history[5][0][start_index:]\n",
    "five_two = history[5][1][start_index:]\n",
    "five_three = history[5][2][start_index:]\n",
    "five_four = history[5][3][start_index:]\n",
    "\n",
    "six_one = history[6][0][start_index:]\n",
    "six_two = history[6][1][start_index:]\n",
    "six_three = history[6][2][start_index:]\n",
    "six_four = history[6][3][start_index:]\n",
    "\n",
    "seven_one = history[7][0][start_index:]\n",
    "seven_two = history[7][1][start_index:]\n",
    "seven_three = history[7][2][start_index:]\n",
    "seven_four = history[7][3][start_index:]\n",
    "\n",
    "eight_one = history[8][0][start_index:]\n",
    "eight_two = history[8][1][start_index:]\n",
    "eight_three = history[8][2][start_index:]\n",
    "eight_four = history[8][3][start_index:]\n",
    "\n",
    "nine_one = history[9][0][start_index:]\n",
    "nine_two = history[9][1][start_index:]\n",
    "nine_three = history[9][2][start_index:]\n",
    "nine_four = history[9][3][start_index:]\n",
    "\n",
    "noise_one = history[10][0][start_index:]\n",
    "noise_two = history[10][1][start_index:]\n",
    "noise_three = history[10][2][start_index:]\n",
    "noise_four = history[10][3][start_index:]\n",
    "\n",
    "zeros = [zero_one, zero_two, zero_three, zero_four]\n",
    "ones = [one_one, one_two, one_three, one_four]\n",
    "twos = [two_one, two_two, two_three, two_four]\n",
    "threes = [three_one, three_two, three_three, three_four]\n",
    "noises = [noise_one, noise_two, noise_three, noise_four]"
   ]
  },
  {
   "cell_type": "code",
   "execution_count": 39,
   "metadata": {},
   "outputs": [],
   "source": [
    "def generate_box_plot(ax, data: List, color: str, label: str, position_offset: int = 0, showfliers: bool = False):\n",
    "    ax.set_xlabel(\"Input Column and Node Number\")\n",
    "    ax.set_ylabel(\"Weight Values\")\n",
    "    color = {\"color\": color}\n",
    "    ax.boxplot(\n",
    "        data,\n",
    "        positions=[i + position_offset for i in range(1,5)],\n",
    "        boxprops=color,\n",
    "        medianprops=color,\n",
    "        whiskerprops=color,\n",
    "        capprops=color,\n",
    "        flierprops={\"markeredgecolor\": other},\n",
    "        showfliers=showfliers,\n",
    "        labels=[f\"{label}{i}\" for i in range(1,5)]\n",
    "    )"
   ]
  },
  {
   "cell_type": "code",
   "execution_count": 40,
   "metadata": {},
   "outputs": [
    {
     "data": {
      "image/png": "[encoded data removed]",
      "text/plain": [
       "<Figure size 1152x432 with 1 Axes>"
      ]
     },
     "metadata": {
      "needs_background": "light"
     },
     "output_type": "display_data"
    }
   ],
   "source": [
    "fig, ax = plt.subplots(figsize=(16,6))\n",
    "\n",
    "generate_box_plot(ax, zeros, darker, \"M\")\n",
    "generate_box_plot(ax, ones, important, \"X\", 4)\n",
    "generate_box_plot(ax, twos, light, \"C\", 8)\n",
    "generate_box_plot(ax, threes, noise, \"Noise\", 12)\n",
    "generate_box_plot(ax, noises, noise, \"Noise\", 12)"
   ]
  },
  {
   "cell_type": "code",
   "execution_count": 41,
   "metadata": {},
   "outputs": [],
   "source": [
    "from statistics import mean, stdev\n",
    "from scipy.stats import norm\n",
    "\n",
    "def plot_stds(group):\n",
    "    fig, ax = plt.subplots(figsize=(16,6))\n",
    "    domain = np.linspace(-2,2,1000)\n",
    "    means = [mean(group[0]), mean(group[1]), mean(group[2]), mean(group[3])]\n",
    "    stds = [stdev(group[0]), stdev(group[1]), stdev(group[2]), stdev(group[3])]\n",
    "    colors = [darker, important, light, noise]\n",
    "\n",
    "    for mu, std, color in zip(means, stds, colors):\n",
    "        probs = norm.pdf(domain, mu, std)\n",
    "        ax.plot(domain, probs, color=color)\n",
    "        ax.set_xlabel(\"Weight\")\n",
    "        ax.set_ylabel(\"Probability Density\")"
   ]
  },
  {
   "cell_type": "code",
   "execution_count": 42,
   "metadata": {},
   "outputs": [
    {
     "data": {
      "image/png": "[encoded data removed]",
      "text/plain": [
       "<Figure size 1152x432 with 1 Axes>"
      ]
     },
     "metadata": {
      "needs_background": "light"
     },
     "output_type": "display_data"
    }
   ],
   "source": [
    "group_ones = [zero_one, one_one, two_one, three_one, noise_one]\n",
    "plot_stds(group_ones)"
   ]
  },
  {
   "cell_type": "markdown",
   "metadata": {},
   "source": [
    "### Maybe look at the outputs since they're the actual classifications so perhaps the weights going into 10 are different to the others. The input doesn't work since it's a 28x28 tensor"
   ]
  },
  {
   "cell_type": "code",
   "execution_count": null,
   "metadata": {},
   "outputs": [],
   "source": []
  }
 ],
 "metadata": {
  "kernelspec": {
   "display_name": "Python 3.8.13 ('network')",
   "language": "python",
   "name": "python3"
  },
  "language_info": {
   "codemirror_mode": {
    "name": "ipython",
    "version": 3
   },
   "file_extension": ".py",
   "mimetype": "text/x-python",
   "name": "python",
   "nbconvert_exporter": "python",
   "pygments_lexer": "ipython3",
   "version": "3.8.13"
  },
  "orig_nbformat": 4,
  "vscode": {
   "interpreter": {
    "hash": "4675c3144d5408229f03762137a1293c1ae58345d8260259851756cf0dcf4741"
   }
  }
 },
 "nbformat": 4,
 "nbformat_minor": 2
}
