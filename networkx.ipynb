{
 "cells": [
  {
   "cell_type": "code",
   "execution_count": 2,
   "id": "723fca9a",
   "metadata": {},
   "outputs": [],
   "source": [
    "import networkx as nx\n",
    "H = nx.DiGraph()"
   ]
  },
  {
   "cell_type": "code",
   "execution_count": 3,
   "id": "3d370a48",
   "metadata": {},
   "outputs": [
    {
     "name": "stdout",
     "output_type": "stream",
     "text": [
      "(0, {'color': 'gray', 'size': 450})\n",
      "(1, {'color': 'yellow', 'size': 700})\n",
      "(2, {'color': 'red', 'size': 250})\n",
      "(3, {'color': 'pink', 'size': 500})\n"
     ]
    }
   ],
   "source": [
    "H.add_nodes_from([\n",
    "    (0, {\"color\": \"gray\", \"size\": 450}),\n",
    "    (1, {\"color\": \"yellow\", \"size\": 700}),\n",
    "    (2, {\"color\": \"red\", \"size\": 250}),\n",
    "    (3, {\"color\": \"pink\", \"size\": 500})\n",
    "])\n",
    "\n",
    "for node in H.nodes(data=True):\n",
    "    print(node)"
   ]
  },
  {
   "cell_type": "code",
   "execution_count": 4,
   "id": "3e3fc94f",
   "metadata": {},
   "outputs": [
    {
     "name": "stdout",
     "output_type": "stream",
     "text": [
      "[(0, 1), (1, 2), (2, 0), (2, 3), (3, 2)]\n"
     ]
    }
   ],
   "source": [
    "H.add_edges_from([\n",
    "    (0, 1),\n",
    "    (1, 2),\n",
    "    (2, 0),\n",
    "    (2, 3),\n",
    "    (3, 2)\n",
    "])\n",
    "print(H.edges())\n"
   ]
  },
  {
   "cell_type": "code",
   "execution_count": 5,
   "id": "9b569ad6",
   "metadata": {},
   "outputs": [
    {
     "name": "stdout",
     "output_type": "stream",
     "text": [
      "Directed graph: True\n",
      "Number of nodes: 4\n",
      "Number of edges: 5\n"
     ]
    }
   ],
   "source": [
    "def print_graph_info(graph):\n",
    "    print(\"Directed graph:\", graph.is_directed())\n",
    "    print(\"Number of nodes:\", graph.number_of_nodes())\n",
    "    print(\"Number of edges:\", graph.number_of_edges())\n",
    "\n",
    "\n",
    "print_graph_info(H)\n"
   ]
  },
  {
   "cell_type": "code",
   "execution_count": 6,
   "id": "bfdf3972",
   "metadata": {},
   "outputs": [
    {
     "data": {
      "image/png": "[encoded data removed]",
      "text/plain": [
       "<Figure size 432x288 with 1 Axes>"
      ]
     },
     "metadata": {},
     "output_type": "display_data"
    }
   ],
   "source": [
    "node_colors = nx.get_node_attributes(H, \"color\").values()\n",
    "colors = list(node_colors)\n",
    "node_sizes = nx.get_node_attributes(H, \"size\").values()\n",
    "sizes = list(node_sizes)\n",
    "nx.draw(H, with_labels=True, node_color=colors, node_size=sizes)"
   ]
  },
  {
   "cell_type": "code",
   "execution_count": 7,
   "id": "a50ab8d6",
   "metadata": {},
   "outputs": [
    {
     "name": "stdout",
     "output_type": "stream",
     "text": [
      "Directed graph: False\n",
      "Number of nodes: 4\n",
      "Number of edges: 4\n"
     ]
    }
   ],
   "source": [
    "G = H.to_undirected()\n",
    "print_graph_info(G)"
   ]
  },
  {
   "cell_type": "code",
   "execution_count": 8,
   "id": "4dbedb4b",
   "metadata": {},
   "outputs": [
    {
     "name": "stdout",
     "output_type": "stream",
     "text": [
      "[(0, 1), (0, 2), (1, 2), (2, 3)]\n"
     ]
    }
   ],
   "source": [
    "print(G.edges())"
   ]
  },
  {
   "cell_type": "code",
   "execution_count": 9,
   "id": "81c8a5f5",
   "metadata": {},
   "outputs": [
    {
     "data": {
      "image/png": "[encoded data removed]",
      "text/plain": [
       "<Figure size 432x288 with 1 Axes>"
      ]
     },
     "metadata": {},
     "output_type": "display_data"
    }
   ],
   "source": [
    "nx.draw(G, with_labels=True, node_color=colors, node_size=sizes)"
   ]
  },
  {
   "cell_type": "code",
   "execution_count": null,
   "id": "3d8803ee",
   "metadata": {},
   "outputs": [],
   "source": []
  }
 ],
 "metadata": {
  "kernelspec": {
   "display_name": "Python 3.8.13 ('network')",
   "language": "python",
   "name": "python3"
  },
  "language_info": {
   "codemirror_mode": {
    "name": "ipython",
    "version": 3
   },
   "file_extension": ".py",
   "mimetype": "text/x-python",
   "name": "python",
   "nbconvert_exporter": "python",
   "pygments_lexer": "ipython3",
   "version": "3.8.13"
  },
  "vscode": {
   "interpreter": {
    "hash": "4675c3144d5408229f03762137a1293c1ae58345d8260259851756cf0dcf4741"
   }
  }
 },
 "nbformat": 4,
 "nbformat_minor": 5
}
