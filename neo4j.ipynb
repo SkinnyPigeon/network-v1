{
 "cells": [
  {
   "cell_type": "code",
   "execution_count": 1,
   "metadata": {},
   "outputs": [],
   "source": [
    "from neo4j import GraphDatabase\n",
    "import pandas as pd\n",
    "import seaborn as sns\n",
    "import tensorflow as tf\n",
    "import matplotlib.pyplot as plt\n",
    "import numpy as np\n",
    "import networkx as nx\n",
    "from tensorflow import keras\n",
    "from datetime import datetime"
   ]
  },
  {
   "cell_type": "code",
   "execution_count": 2,
   "metadata": {},
   "outputs": [
    {
     "data": {
      "text/html": [
       "<div>\n",
       "<style scoped>\n",
       "    .dataframe tbody tr th:only-of-type {\n",
       "        vertical-align: middle;\n",
       "    }\n",
       "\n",
       "    .dataframe tbody tr th {\n",
       "        vertical-align: top;\n",
       "    }\n",
       "\n",
       "    .dataframe thead th {\n",
       "        text-align: right;\n",
       "    }\n",
       "</style>\n",
       "<table border=\"1\" class=\"dataframe\">\n",
       "  <thead>\n",
       "    <tr style=\"text-align: right;\">\n",
       "      <th></th>\n",
       "      <th>ms</th>\n",
       "      <th>xs</th>\n",
       "      <th>cs</th>\n",
       "      <th>ys</th>\n",
       "    </tr>\n",
       "  </thead>\n",
       "  <tbody>\n",
       "    <tr>\n",
       "      <th>0</th>\n",
       "      <td>2</td>\n",
       "      <td>0</td>\n",
       "      <td>50</td>\n",
       "      <td>50</td>\n",
       "    </tr>\n",
       "    <tr>\n",
       "      <th>1</th>\n",
       "      <td>2</td>\n",
       "      <td>2</td>\n",
       "      <td>50</td>\n",
       "      <td>54</td>\n",
       "    </tr>\n",
       "    <tr>\n",
       "      <th>2</th>\n",
       "      <td>2</td>\n",
       "      <td>4</td>\n",
       "      <td>50</td>\n",
       "      <td>58</td>\n",
       "    </tr>\n",
       "    <tr>\n",
       "      <th>3</th>\n",
       "      <td>2</td>\n",
       "      <td>6</td>\n",
       "      <td>50</td>\n",
       "      <td>62</td>\n",
       "    </tr>\n",
       "    <tr>\n",
       "      <th>4</th>\n",
       "      <td>2</td>\n",
       "      <td>8</td>\n",
       "      <td>50</td>\n",
       "      <td>66</td>\n",
       "    </tr>\n",
       "  </tbody>\n",
       "</table>\n",
       "</div>"
      ],
      "text/plain": [
       "   ms  xs  cs  ys\n",
       "0   2   0  50  50\n",
       "1   2   2  50  54\n",
       "2   2   4  50  58\n",
       "3   2   6  50  62\n",
       "4   2   8  50  66"
      ]
     },
     "execution_count": 2,
     "metadata": {},
     "output_type": "execute_result"
    }
   ],
   "source": [
    "m = 2\n",
    "xs = [i * m for i in range(50)]\n",
    "c = 50\n",
    "\n",
    "ms = [m for _ in range(50)]\n",
    "cs = [c for _ in range(50)]\n",
    "ys = [m * x + c for x in xs]\n",
    "\n",
    "data = {\n",
    "    'ms': ms,\n",
    "    'xs': xs,\n",
    "    'cs': cs,\n",
    "    'ys': ys\n",
    "}\n",
    "\n",
    "df = pd.DataFrame(data=data)\n",
    "df.head(5)"
   ]
  },
  {
   "cell_type": "code",
   "execution_count": 3,
   "metadata": {},
   "outputs": [],
   "source": [
    "X_train = df[['ms', 'xs', 'cs']]\n",
    "y_train = df['ys']"
   ]
  },
  {
   "cell_type": "code",
   "execution_count": 4,
   "metadata": {},
   "outputs": [
    {
     "name": "stdout",
     "output_type": "stream",
     "text": [
      "Model: \"sequential\"\n",
      "_________________________________________________________________\n",
      " Layer (type)                Output Shape              Param #   \n",
      "=================================================================\n",
      " dense (Dense)               (None, 3)                 12        \n",
      "                                                                 \n",
      " dense_1 (Dense)             (None, 3)                 12        \n",
      "                                                                 \n",
      " dense_2 (Dense)             (None, 1)                 4         \n",
      "                                                                 \n",
      "=================================================================\n",
      "Total params: 28\n",
      "Trainable params: 28\n",
      "Non-trainable params: 0\n",
      "_________________________________________________________________\n"
     ]
    }
   ],
   "source": [
    "model = tf.keras.Sequential()\n",
    "model.add(tf.keras.layers.Dense(units=3, input_shape=[3]))\n",
    "model.add(tf.keras.layers.Dense(units=3, input_shape=[3]))\n",
    "model.add(tf.keras.layers.Dense(units=1))\n",
    "model.summary()\n",
    "model.compile(optimizer=tf.keras.optimizers.Adam(0.5), loss='mean_squared_error')"
   ]
  },
  {
   "cell_type": "code",
   "execution_count": null,
   "metadata": {},
   "outputs": [],
   "source": [
    "epochs_hist = model.fit(X_train, y_train, epochs=500)"
   ]
  },
  {
   "cell_type": "code",
   "execution_count": 12,
   "metadata": {},
   "outputs": [],
   "source": [
    "class Neo4jConnection:\n",
    "    \n",
    "    def __init__(self, uri, user, pwd):\n",
    "        self.__uri = uri\n",
    "        self.__user = user\n",
    "        self.__pwd = pwd\n",
    "        self.__driver = None\n",
    "        try:\n",
    "            self.__driver = GraphDatabase.driver(self.__uri, auth=(self.__user, self.__pwd))\n",
    "        except Exception as e:\n",
    "            print(\"Failed to create the driver:\", e)\n",
    "        \n",
    "    def close(self):\n",
    "        if self.__driver is not None:\n",
    "            self.__driver.close()\n",
    "        \n",
    "    def query(self, query, db=None):\n",
    "        assert self.__driver is not None, \"Driver not initialized!\"\n",
    "        session = None\n",
    "        response = None\n",
    "        try: \n",
    "            session = self.__driver.session(database=db) if db is not None else self.__driver.session() \n",
    "            response = list(session.run(query))\n",
    "        except Exception as e:\n",
    "            print(\"Query failed:\", e)\n",
    "        finally: \n",
    "            if session is not None:\n",
    "                session.close()\n",
    "        return response"
   ]
  },
  {
   "cell_type": "code",
   "execution_count": 17,
   "metadata": {},
   "outputs": [],
   "source": [
    "conn = Neo4jConnection(uri=\"neo4j://localhost:7687\", user=\"neo4j\", pwd=\"password\")"
   ]
  },
  {
   "cell_type": "code",
   "execution_count": 167,
   "metadata": {},
   "outputs": [
    {
     "name": "stdout",
     "output_type": "stream",
     "text": [
      "[[[-0.44424766302108765, -0.14649514853954315, 1.4081895351409912], [0.7082571387290955, -0.22568680346012115, 1.289670705795288], [-0.032005373388528824, -0.26664653420448303, 0.6969856023788452]], [[0.462401419878006, -0.35733285546302795, 0.9182608723640442], [3.4768314361572266, -2.2673356533050537, 0.18476609885692596], [0.598547101020813, -0.5195207595825195, 1.5608936548233032]]]\n",
      "[[-0.08561587333679199], [-0.02823176234960556], [0.7687111496925354]]\n",
      "3\n",
      "[[0.09486032277345657, 0.6421387195587158, 0.8253923654556274], [-0.40326762199401855, 1.972714900970459, 2.245237350463867]]\n",
      "[3.948150634765625]\n"
     ]
    }
   ],
   "source": [
    "weights = [model.layers[i].get_weights()[0].tolist() for i in range(len(model.layers))]\n",
    "biases = [model.layers[i].bias.numpy().tolist() for i in range(len(model.layers))]\n",
    "output_w = weights.pop()\n",
    "output_b = biases.pop()\n",
    "print(weights)\n",
    "print(output_w)\n",
    "print(len(output_w))\n",
    "print(biases)\n",
    "print(output_b)"
   ]
  },
  {
   "cell_type": "code",
   "execution_count": 168,
   "metadata": {},
   "outputs": [],
   "source": [
    "def input_nodes():\n",
    "    for i in range(3):\n",
    "        query = f\"CREATE (i: Input {{name: 'input_{i}'}})\"\n",
    "        conn.query(query, db=\"nndb\")"
   ]
  },
  {
   "cell_type": "code",
   "execution_count": 169,
   "metadata": {},
   "outputs": [],
   "source": [
    "def hidden_layer_nodes():\n",
    "    for i in range(len(biases)):\n",
    "        for j in range(len(biases[i])):\n",
    "            query = f\"CREATE (h: HiddenLayer{i} {{bias: {biases[i][j]}, name: 'hidden_layer_{i}_node_{j}'}})\"\n",
    "            conn.query(query, db=\"nndb\")"
   ]
  },
  {
   "cell_type": "code",
   "execution_count": 170,
   "metadata": {},
   "outputs": [],
   "source": [
    "def output_nodes():\n",
    "    query = f\"CREATE (o: Output {{bias: {output_b[0]}, name: 'output_node'}})\"\n",
    "    conn.query(query, db=\"nndb\")"
   ]
  },
  {
   "cell_type": "code",
   "execution_count": 171,
   "metadata": {},
   "outputs": [],
   "source": [
    "def input_weights():\n",
    "    in_weights = weights[0]\n",
    "    for i in range(len(in_weights)):\n",
    "        for j in range(len(in_weights[i])):\n",
    "            query = f\"\"\"\n",
    "                MATCH\n",
    "                    (i: Input),\n",
    "                    (h: HiddenLayer0)\n",
    "                WHERE i.name = 'input_{i}'\n",
    "                AND h.name = 'hidden_layer_0_node_{j}'\n",
    "                CREATE (i)-[w: Weight {{weight: {in_weights[i][j]}}}]->(h)\n",
    "                RETURN i, h\n",
    "            \"\"\"\n",
    "            conn.query(query, db=\"nndb\")"
   ]
  },
  {
   "cell_type": "code",
   "execution_count": 172,
   "metadata": {},
   "outputs": [],
   "source": [
    "def output_weights():\n",
    "    last_hidden_layer = len(biases) - 1\n",
    "    for i in range(len(output_w)):\n",
    "        query = f\"\"\"\n",
    "            MATCH \n",
    "                (h: HiddenLayer{last_hidden_layer}),\n",
    "                (o: Output)\n",
    "            WHERE h.name = 'hidden_layer_{last_hidden_layer}_node_{i}'\n",
    "            CREATE (h)-[w: Weight {{weight: {output_w[i][0]}}}]->(o)\n",
    "        \"\"\"\n",
    "        conn.query(query, db=\"nndb\")"
   ]
  },
  {
   "cell_type": "code",
   "execution_count": 191,
   "metadata": {},
   "outputs": [],
   "source": [
    "def hidden_layer_weights():\n",
    "    for i in range(len(weights)):\n",
    "        if i == 0:\n",
    "            continue\n",
    "        for j in range(len(weights[i])):\n",
    "            for k in range(len(weights[i][j])):\n",
    "                query = f\"\"\"\n",
    "                    MATCH\n",
    "                        (h0: HiddenLayer{i - 1}),\n",
    "                        (h1: HiddenLayer{i})\n",
    "                    WHERE h0.name = 'hidden_layer_{i - 1}_node_{j}'\n",
    "                    AND h1.name = 'hidden_layer_{i}_node_{k}'\n",
    "                    CREATE (h0)-[w: Weight {{weight: {weights[i - 1][j][k]}}}]->(h1)\n",
    "                \"\"\"\n",
    "                conn.query(query, db=\"nndb\") \n",
    "            "
   ]
  },
  {
   "cell_type": "code",
   "execution_count": 192,
   "metadata": {},
   "outputs": [
    {
     "name": "stdout",
     "output_type": "stream",
     "text": [
      "hidden_layer_0_node_0\n",
      "hidden_layer_1_node_0\n",
      "hidden_layer_0_node_0\n",
      "hidden_layer_1_node_1\n",
      "hidden_layer_0_node_0\n",
      "hidden_layer_1_node_2\n",
      "hidden_layer_0_node_1\n",
      "hidden_layer_1_node_0\n",
      "hidden_layer_0_node_1\n",
      "hidden_layer_1_node_1\n",
      "hidden_layer_0_node_1\n",
      "hidden_layer_1_node_2\n",
      "hidden_layer_0_node_2\n",
      "hidden_layer_1_node_0\n",
      "hidden_layer_0_node_2\n",
      "hidden_layer_1_node_1\n",
      "hidden_layer_0_node_2\n",
      "hidden_layer_1_node_2\n"
     ]
    }
   ],
   "source": [
    "conn.query(\"CREATE OR REPLACE DATABASE nndb\")\n",
    "input_nodes()\n",
    "hidden_layer_nodes()\n",
    "output_nodes()\n",
    "input_weights()\n",
    "hidden_layer_weights()\n",
    "output_weights()"
   ]
  },
  {
   "cell_type": "code",
   "execution_count": null,
   "metadata": {},
   "outputs": [],
   "source": []
  }
 ],
 "metadata": {
  "kernelspec": {
   "display_name": "Python 3.8.13 ('network')",
   "language": "python",
   "name": "python3"
  },
  "language_info": {
   "codemirror_mode": {
    "name": "ipython",
    "version": 3
   },
   "file_extension": ".py",
   "mimetype": "text/x-python",
   "name": "python",
   "nbconvert_exporter": "python",
   "pygments_lexer": "ipython3",
   "version": "3.8.13"
  },
  "orig_nbformat": 4,
  "vscode": {
   "interpreter": {
    "hash": "4675c3144d5408229f03762137a1293c1ae58345d8260259851756cf0dcf4741"
   }
  }
 },
 "nbformat": 4,
 "nbformat_minor": 2
}
